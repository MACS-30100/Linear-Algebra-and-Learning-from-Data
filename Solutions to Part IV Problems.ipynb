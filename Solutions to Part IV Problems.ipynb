{
 "cells": [
  {
   "cell_type": "markdown",
   "metadata": {},
   "source": [
    "#### Problem IV.1.1\n",
    "\n",
    "$w=e^{2\\pi i/N}$ and $\\omega = e^{-2\\pi i/N} = \\bar{w}$, so we have the complex dot product between the $p$th row of $F$ and $q$th column of $\\Omega$, we have\n",
    "\n",
    "\\begin{align*}\n",
    "\\bar{p}^Tq &= 1 + \\bar{w}^p\\omega^q + \\dots + \\bar{w}^{(N-1)p}\\omega^{(N-1)q}\\\\\n",
    "&= 1 + \\omega^p\\omega^q + \\dots + \\omega^{(N-1)p}\\omega^{(N-1)q}\\\\\n",
    "&= 1 + \\omega^{p+q} + \\dots + \\omega^{(N-1)(p+q)}\\\\\n",
    "&= \\frac{1-\\omega^{N(p+q)}}{1-\\omega}\\\\\n",
    "&= \\frac{1-e^{-2\\pi i(p+q)}}{1-\\omega}\\\\\n",
    "&= 0\\\\\n",
    "\\end{align*}\n",
    "\n",
    "#### Problem IV.1.2\n",
    "\n",
    "$w=e^{2\\pi i/N}$, $w^M_N = (w_N)^M = \\left(e^{2\\pi i/N}\\right)^M = \\left(e^{2\\pi i/N}\\right)^{\\frac{N}{2}} = e^{\\pi i} = -1$\n",
    "\n",
    "\n",
    "#### Problem IV.1.3\n",
    "\n",
    "With $w=e^{2\\pi i/3} = -\\frac{1}{2} + \\frac{\\sqrt{3}}{2}i$, then $\\omega = \\bar{w} = -\\frac{1}{2} - \\frac{\\sqrt{3}}{2}i$\n",
    "\n",
    "$F_3 = \\begin{bmatrix}w^{0\\times 0} & w^{1\\times 0} & w^{2\\times 0} \\\\ w^{0\\times 1} & w^{1\\times 1} & w^{2\\times 1} \\\\ w^{0\\times 2} & w^{1\\times 2} & w^{2\\times 2} \\\\ \\end{bmatrix} = \\begin{bmatrix}1 & 1 & 1 \\\\ 1 & w & w^2 \\\\ 1 & w^2 & w^4\\end{bmatrix}$\n",
    "\n",
    "Then \n",
    "$\\Omega_3 = \\begin{bmatrix}1 & 1 & 1 \\\\ 1 & \\omega & \\omega^2 \\\\ 1 & \\omega^2 & \\omega^4\\end{bmatrix}$\n",
    "\n",
    "The permutation matrix is then $P_3=\\begin{bmatrix}1 & 0 & 0 \\\\ 0 & 0 & 1 \\\\ 0 & 1 & 0 \\end{bmatrix}$\n",
    "\n",
    "We have $F_3P_3 = \\begin{bmatrix}1 & 1 & 1 \\\\ 1 & w^2 & w \\\\ 1 & w^4 & w^2\\end{bmatrix} $\n",
    "\n",
    "Note, $w^2 = e^{4\\pi i/3} = e^{(2\\pi - 2\\pi /3)i} = e^{2\\pi i}e^{- 2\\pi i/3} = e^{- 2\\pi i/3}=\\omega$, and $w^4=w^2w^2 = \\omega^2$, $\\omega^2 = e^{-4\\pi i/3} = e^{(-2\\pi + 2\\pi /3)i}=e^{-2\\pi i}e^{2\\pi i/3} = e^{2\\pi i/3}=w$\n",
    "\n",
    "So we see that $\\Omega_3 = F_3P_3$.\n",
    "\n",
    "Similarly we can prove that $F_3 = \\Omega_3 P_3$.\n",
    "\n",
    "#### Problem IV.1.4\n",
    "\n",
    "$\\Omega_4 = \\begin{bmatrix}1 & 1 & 1 & 1 \\\\ 1 & -i & -1 & i \\\\ 1 & -1 & 1 & -1 \\\\ 1 & i & -1 & -i\\end{bmatrix}$\n",
    "\n",
    "So we have $c=\\Omega_4 f = \\begin{bmatrix}1 \\\\ -i \\\\ -1 \\\\ i \\end{bmatrix}$\n",
    "\n",
    "Now the $F_4 = \\begin{bmatrix}1 & 1 & 1 & 1 \\\\ 1 & i & -1 & -i \\\\ 1 & -1 & 1 & -1 \\\\ 1 & -i & -1 & i\\end{bmatrix}$\n",
    "we have $F_4 c = \\begin{bmatrix}0 \\\\ 4 \\\\ 0 \\\\ 0 \\end{bmatrix} = 4f$"
   ]
  },
  {
   "cell_type": "markdown",
   "metadata": {},
   "source": [
    "#### Problem IV.1.6\n",
    "If $N=6$, We have $w=e^{2\\pi i/6}$, then \n",
    "\n",
    "$1+w+w^2+w^3+w^4+w^5 = \\frac{1-w^6}{1-w} = \\frac{1-e^{2\\pi i}}{1-w} = 0$"
   ]
  },
  {
   "cell_type": "code",
   "execution_count": null,
   "metadata": {},
   "outputs": [],
   "source": []
  }
 ],
 "metadata": {
  "kernelspec": {
   "display_name": "Python 3",
   "language": "python",
   "name": "python3"
  },
  "language_info": {
   "codemirror_mode": {
    "name": "ipython",
    "version": 3
   },
   "file_extension": ".py",
   "mimetype": "text/x-python",
   "name": "python",
   "nbconvert_exporter": "python",
   "pygments_lexer": "ipython3",
   "version": "3.7.3"
  }
 },
 "nbformat": 4,
 "nbformat_minor": 2
}
