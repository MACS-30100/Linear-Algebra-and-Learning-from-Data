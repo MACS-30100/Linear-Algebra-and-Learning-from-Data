{
 "cells": [
  {
   "cell_type": "markdown",
   "metadata": {},
   "source": [
    "### Problem Set I.1\n",
    "#### Problem I.1.1\n",
    "\n",
    "The example\n",
    "\n",
    "\\begin{align*}\n",
    "1\\times \\begin{bmatrix}0\\\\1\\\\2\\\\ 3\\end{bmatrix} + 1 \\times \\begin{bmatrix}1\\\\2\\\\-1\\\\-3\\end{bmatrix} - 1 \\times \\begin{bmatrix}1\\\\3\\\\1\\\\0\\end{bmatrix} &= \\begin{bmatrix}0\\\\0\\\\0\\\\0\\end{bmatrix}\\\\\n",
    "\\end{align*}\n",
    "\n",
    "Let $A=\\begin{bmatrix}0&1 &1 \\\\1 &2 &3\\\\ 2 & -1 & 1\\\\3 & -3 & 0\\end{bmatrix}$ and $x = \\begin{bmatrix}1\\\\1\\\\-1\\end{bmatrix}$, we have $A_{4\\times 3}x_{3\\times 1}=0_{4\\times 1}$.\n",
    "\n",
    "#### Problem I.1.2 \n",
    "\n",
    "The two solutions for $Az=0$ are: $z = x-y$ and $z=y-x$.\n",
    "\n",
    "#### Problem I.1.3\n",
    "\n",
    "* (1) $Ac = 0$, where $A = \\begin{bmatrix}a_1 & a_2 & \\dots & a_n\\end{bmatrix}_{m \\times n}$, and $c = \\begin{bmatrix}c_1 \\\\ c_2\\\\ \\vdots \\\\ c_n\\end{bmatrix}_{n \\times 1}$\n",
    "\n",
    "* (2) $\\sum^n_{j=1} a_{ij}c_j = 0$ for $i = 1, 2, \\dots, m$\n",
    "\n",
    "#### Problem I.1.4\n",
    "\n",
    "We have two solutions $x = \\begin{bmatrix}0 \\\\ 1 \\\\ -1\\end{bmatrix}$ and $y=\\begin{bmatrix}1 \\\\ 0 \\\\ -1\\end{bmatrix}$.\n",
    "\n",
    "\\begin{align*}\n",
    "0\\times \\begin{bmatrix}1 \\\\ 1 \\\\ 1\\end{bmatrix} + 1 \\times \\begin{bmatrix}1 \\\\ 1 \\\\ 1\\end{bmatrix} - 1 \\times \\begin{bmatrix}1 \\\\ 1 \\\\ 1\\end{bmatrix} &= \\begin{bmatrix}0 \\\\ 0 \\\\ 0\\end{bmatrix}\n",
    "\\end{align*}\n",
    "\n",
    "Any other solutions are linear combinations of the first two independent vectors $x$ and $y$. "
   ]
  },
  {
   "cell_type": "code",
   "execution_count": null,
   "metadata": {},
   "outputs": [],
   "source": []
  }
 ],
 "metadata": {
  "kernelspec": {
   "display_name": "Python 3",
   "language": "python",
   "name": "python3"
  },
  "language_info": {
   "codemirror_mode": {
    "name": "ipython",
    "version": 3
   },
   "file_extension": ".py",
   "mimetype": "text/x-python",
   "name": "python",
   "nbconvert_exporter": "python",
   "pygments_lexer": "ipython3",
   "version": "3.7.3"
  }
 },
 "nbformat": 4,
 "nbformat_minor": 2
}
